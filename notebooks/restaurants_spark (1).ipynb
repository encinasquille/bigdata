{
 "cells": [
  {
   "cell_type": "code",
   "execution_count": 1,
   "id": "72d47f96",
   "metadata": {},
   "outputs": [
    {
     "name": "stdout",
     "output_type": "stream",
     "text": [
      "Starting Spark application\n"
     ]
    },
    {
     "data": {
      "text/html": [
       "<table>\n",
       "<tr><th>ID</th><th>YARN Application ID</th><th>Kind</th><th>State</th><th>Spark UI</th><th>Driver log</th><th>User</th><th>Current session?</th></tr><tr><td>0</td><td>application_1749607942991_0001</td><td>pyspark</td><td>idle</td><td><a target=\"_blank\" href=\"http://ip-172-31-74-34.ec2.internal:20888/proxy/application_1749607942991_0001/\">Link</a></td><td><a target=\"_blank\" href=\"http://ip-172-31-78-157.ec2.internal:8042/node/containerlogs/container_1749607942991_0001_01_000001/livy\">Link</a></td><td>None</td><td>✔</td></tr></table>"
      ],
      "text/plain": [
       "<IPython.core.display.HTML object>"
      ]
     },
     "metadata": {},
     "output_type": "display_data"
    },
    {
     "data": {
      "application/vnd.jupyter.widget-view+json": {
       "model_id": "",
       "version_major": 2,
       "version_minor": 0
      },
      "text/plain": [
       "FloatProgress(value=0.0, bar_style='info', description='Progress:', layout=Layout(height='25px', width='50%'),…"
      ]
     },
     "metadata": {},
     "output_type": "display_data"
    },
    {
     "name": "stdout",
     "output_type": "stream",
     "text": [
      "SparkSession available as 'spark'.\n"
     ]
    },
    {
     "data": {
      "application/vnd.jupyter.widget-view+json": {
       "model_id": "",
       "version_major": 2,
       "version_minor": 0
      },
      "text/plain": [
       "FloatProgress(value=0.0, bar_style='info', description='Progress:', layout=Layout(height='25px', width='50%'),…"
      ]
     },
     "metadata": {},
     "output_type": "display_data"
    }
   ],
   "source": [
    "from pyspark.sql import SparkSession\n",
    "\n",
    "def get_spark_session(app_name=\"Calcular Violaciones Sanitarias RED\"):\n",
    "    \"\"\"\n",
    "    Crea o reutiliza una SparkSession existente.\n",
    "    \n",
    "    :param app_name: Nombre de la aplicación Spark.\n",
    "    :return: Instancia activa de SparkSession.\n",
    "    \"\"\"\n",
    "    return SparkSession.builder.appName(app_name).getOrCreate()\n",
    "\n",
    "def calculate_red_violations(data_source_path: str, spark: SparkSession = None):\n",
    "    \"\"\"\n",
    "    Procesa datos de inspección y muestra los 10 restaurantes con más violaciones del tipo RED.\n",
    "\n",
    "    :param data_source_path: Ruta al archivo CSV (por ejemplo, en S3: 's3://bucket/nombre.csv').\n",
    "    :param spark: Sesión Spark (si no se proporciona, se crea una nueva).\n",
    "    :return: DataFrame con el resultado de la consulta.\n",
    "    \"\"\"\n",
    "    if spark is None:\n",
    "        spark = get_spark_session()\n",
    "\n",
    "    print(\"Leyendo datos desde:\", data_source_path)\n",
    "    df = spark.read.option(\"header\", \"true\").csv(data_source_path)\n",
    "\n",
    "    # Crear vista temporal para consultas SQL\n",
    "    df.createOrReplaceTempView(\"restaurant_violations\")\n",
    "\n",
    "    # Ejecutar consulta SQL para encontrar los top 10\n",
    "    print(\"Ejecutando consulta SQL para encontrar violaciones RED...\")\n",
    "    result_df = spark.sql(\"\"\"\n",
    "        SELECT name, COUNT(*) AS total_red_violations\n",
    "        FROM restaurant_violations\n",
    "        WHERE violation_type = 'RED'\n",
    "        GROUP BY name\n",
    "        ORDER BY total_red_violations DESC\n",
    "        LIMIT 10\n",
    "    \"\"\")\n",
    "\n",
    "    # Mostrar resultados\n",
    "    print(\"Resultado:\")\n",
    "    result_df.show(truncate=False)\n",
    "\n",
    "    return result_df"
   ]
  },
  {
   "cell_type": "code",
   "execution_count": 3,
   "id": "4fbf9389",
   "metadata": {},
   "outputs": [
    {
     "data": {
      "application/vnd.jupyter.widget-view+json": {
       "model_id": "",
       "version_major": 2,
       "version_minor": 0
      },
      "text/plain": [
       "FloatProgress(value=0.0, bar_style='info', description='Progress:', layout=Layout(height='25px', width='50%'),…"
      ]
     },
     "metadata": {},
     "output_type": "display_data"
    },
    {
     "name": "stdout",
     "output_type": "stream",
     "text": [
      "Leyendo datos desde: s3://bucketuni2025/food_establishment_data.csv\n",
      "Ejecutando consulta SQL para encontrar violaciones RED...\n",
      "Resultado:\n",
      "+----------------------+--------------------+\n",
      "|name                  |total_red_violations|\n",
      "+----------------------+--------------------+\n",
      "|SUBWAY                |322                 |\n",
      "|T-MOBILE PARK         |315                 |\n",
      "|WHOLE FOODS MARKET    |299                 |\n",
      "|PCC COMMUNITY MARKETS |251                 |\n",
      "|TACO TIME             |240                 |\n",
      "|MCDONALD'S            |177                 |\n",
      "|THAI GINGER           |153                 |\n",
      "|SAFEWAY INC #1508     |143                 |\n",
      "|TAQUERIA EL RINCONSITO|134                 |\n",
      "|HIMITSU TERIYAKI      |128                 |\n",
      "+----------------------+--------------------+"
     ]
    }
   ],
   "source": [
    "# Ruta S3 al archivo CSV\n",
    "data_source = \"s3://bucketuni2025/food_establishment_data.csv\"\n",
    "\n",
    "# Crear o reutilizar sesión Spark\n",
    "spark = get_spark_session()\n",
    "\n",
    "# Ejecutar análisis\n",
    "result_df = calculate_red_violations(data_source, spark)\n"
   ]
  },
  {
   "cell_type": "code",
   "execution_count": null,
   "id": "8429274d",
   "metadata": {},
   "outputs": [],
   "source": []
  }
 ],
 "metadata": {
  "kernelspec": {
   "display_name": "PySpark",
   "language": "python",
   "name": "pysparkkernel"
  },
  "language_info": {
   "codemirror_mode": {
    "name": "python",
    "version": 3
   },
   "file_extension": ".py",
   "mimetype": "text/x-python",
   "name": "pyspark",
   "pygments_lexer": "python3"
  }
 },
 "nbformat": 4,
 "nbformat_minor": 5
}
