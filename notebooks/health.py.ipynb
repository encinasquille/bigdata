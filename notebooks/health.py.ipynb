{
 "cells": [
  {
   "cell_type": "code",
   "execution_count": 1,
   "id": "10fb5fdf",
   "metadata": {},
   "outputs": [
    {
     "name": "stdout",
     "output_type": "stream",
     "text": [
      "Starting Spark application\n"
     ]
    },
    {
     "data": {
      "text/html": [
       "<table>\n",
       "<tr><th>ID</th><th>YARN Application ID</th><th>Kind</th><th>State</th><th>Spark UI</th><th>Driver log</th><th>User</th><th>Current session?</th></tr><tr><td>1</td><td>application_1748727286175_0003</td><td>pyspark</td><td>idle</td><td><a target=\"_blank\" href=\"http://ip-172-31-33-228.ec2.internal:20888/proxy/application_1748727286175_0003/\">Link</a></td><td><a target=\"_blank\" href=\"http://ip-172-31-35-255.ec2.internal:8042/node/containerlogs/container_1748727286175_0003_01_000001/livy\">Link</a></td><td>None</td><td>✔</td></tr></table>"
      ],
      "text/plain": [
       "<IPython.core.display.HTML object>"
      ]
     },
     "metadata": {},
     "output_type": "display_data"
    },
    {
     "data": {
      "application/vnd.jupyter.widget-view+json": {
       "model_id": "",
       "version_major": 2,
       "version_minor": 0
      },
      "text/plain": [
       "FloatProgress(value=0.0, bar_style='info', description='Progress:', layout=Layout(height='25px', width='50%'),…"
      ]
     },
     "metadata": {},
     "output_type": "display_data"
    },
    {
     "name": "stdout",
     "output_type": "stream",
     "text": [
      "SparkSession available as 'spark'.\n"
     ]
    },
    {
     "data": {
      "application/vnd.jupyter.widget-view+json": {
       "model_id": "",
       "version_major": 2,
       "version_minor": 0
      },
      "text/plain": [
       "FloatProgress(value=0.0, bar_style='info', description='Progress:', layout=Layout(height='25px', width='50%'),…"
      ]
     },
     "metadata": {},
     "output_type": "display_data"
    }
   ],
   "source": [
    "from pyspark.sql import SparkSession\n",
    "\n",
    "def calculate_red_violations(data_source, output_uri):\n",
    "    \"\"\"\n",
    "    Processes sample food establishment inspection data and queries the data to find the top 10 establishments\n",
    "    with the most Red violations from 2006 to 2020.\n",
    "\n",
    "    :param data_source: The URI of your food establishment data CSV, such as 's3://amzn-s3-demo-bucket/food-establishment-data.csv'.\n",
    "    :param output_uri: The URI where output is written, such as 's3://amzn-s3-demo-bucket/restaurant_violation_results'.\n",
    "    \"\"\"\n",
    "    with SparkSession.builder.appName(\"Calculate Red Health Violations\").getOrCreate() as spark:\n",
    "        # Load the restaurant violation CSV data\n",
    "        if data_source is not None:\n",
    "            restaurants_df = spark.read.option(\"header\", \"true\").csv(data_source)\n",
    "\n",
    "        # Create an in-memory DataFrame to query\n",
    "        restaurants_df.createOrReplaceTempView(\"restaurant_violations\")\n",
    "\n",
    "        # Create a DataFrame of the top 10 restaurants with the most Red violations\n",
    "        top_red_violation_restaurants = spark.sql(\"\"\"SELECT name, count(*) AS total_red_violations \n",
    "          FROM restaurant_violations \n",
    "          WHERE violation_type = 'RED' \n",
    "          GROUP BY name \n",
    "          ORDER BY total_red_violations DESC LIMIT 10\"\"\")\n",
    "\n",
    "        # Write the results to the specified output URI\n",
    "        top_red_violation_restaurants.write.option(\"header\", \"true\").mode(\"overwrite\").csv(output_uri)\n",
    "\n",
    "data_source = 's3://emr-edb016-machicao/food_establishment_data.csv'\n",
    "output_uri   ='s3://emr-edb016-machicao/logs'\n",
    "\n",
    "calculate_red_violations(data_source, output_uri)\n"
   ]
  },
  {
   "cell_type": "code",
   "execution_count": 1,
   "id": "ad166e5b",
   "metadata": {},
   "outputs": [
    {
     "name": "stdout",
     "output_type": "stream",
     "text": [
      "Starting Spark application\n"
     ]
    },
    {
     "data": {
      "text/html": [
       "<table>\n",
       "<tr><th>ID</th><th>YARN Application ID</th><th>Kind</th><th>State</th><th>Spark UI</th><th>Driver log</th><th>User</th><th>Current session?</th></tr><tr><td>2</td><td>application_1748727286175_0004</td><td>pyspark</td><td>idle</td><td><a target=\"_blank\" href=\"http://ip-172-31-33-228.ec2.internal:20888/proxy/application_1748727286175_0004/\">Link</a></td><td><a target=\"_blank\" href=\"http://ip-172-31-33-134.ec2.internal:8042/node/containerlogs/container_1748727286175_0004_01_000001/livy\">Link</a></td><td>None</td><td>✔</td></tr></table>"
      ],
      "text/plain": [
       "<IPython.core.display.HTML object>"
      ]
     },
     "metadata": {},
     "output_type": "display_data"
    },
    {
     "data": {
      "application/vnd.jupyter.widget-view+json": {
       "model_id": "",
       "version_major": 2,
       "version_minor": 0
      },
      "text/plain": [
       "FloatProgress(value=0.0, bar_style='info', description='Progress:', layout=Layout(height='25px', width='50%'),…"
      ]
     },
     "metadata": {},
     "output_type": "display_data"
    },
    {
     "name": "stdout",
     "output_type": "stream",
     "text": [
      "SparkSession available as 'spark'.\n"
     ]
    },
    {
     "data": {
      "application/vnd.jupyter.widget-view+json": {
       "model_id": "",
       "version_major": 2,
       "version_minor": 0
      },
      "text/plain": [
       "FloatProgress(value=0.0, bar_style='info', description='Progress:', layout=Layout(height='25px', width='50%'),…"
      ]
     },
     "metadata": {},
     "output_type": "display_data"
    },
    {
     "name": "stdout",
     "output_type": "stream",
     "text": [
      "+----------------------+--------------------+\n",
      "|name                  |total_red_violations|\n",
      "+----------------------+--------------------+\n",
      "|SUBWAY                |322                 |\n",
      "|T-MOBILE PARK         |315                 |\n",
      "|WHOLE FOODS MARKET    |299                 |\n",
      "|PCC COMMUNITY MARKETS |251                 |\n",
      "|TACO TIME             |240                 |\n",
      "|MCDONALD'S            |177                 |\n",
      "|THAI GINGER           |153                 |\n",
      "|SAFEWAY INC #1508     |143                 |\n",
      "|TAQUERIA EL RINCONSITO|134                 |\n",
      "|HIMITSU TERIYAKI      |128                 |\n",
      "+----------------------+--------------------+"
     ]
    }
   ],
   "source": [
    "from pyspark.sql import SparkSession\n",
    "\n",
    "def calculate_red_violations(data_source):\n",
    "    \"\"\"\n",
    "    Processa dados de inspeção de restaurantes e exibe os 10 com mais violações RED.\n",
    "    \n",
    "    :param data_source: URI do CSV com dados dos estabelecimentos, como 's3://...'\n",
    "    \"\"\"\n",
    "    # Cria ou obtém uma SparkSession existente\n",
    "    spark = SparkSession.builder.appName(\"Calculate Red Health Violations\").getOrCreate()\n",
    "\n",
    "    # Lê o arquivo CSV do S3 (ou outro caminho)\n",
    "    restaurants_df = spark.read.option(\"header\", \"true\").csv(data_source)\n",
    "\n",
    "    # Cria uma view temporária para consultas SQL\n",
    "    restaurants_df.createOrReplaceTempView(\"restaurant_violations\")\n",
    "\n",
    "    # Executa a consulta SQL para obter os top 10 restaurantes com mais violações RED\n",
    "    top_red_violation_restaurants = spark.sql(\"\"\"\n",
    "        SELECT name, count(*) AS total_red_violations \n",
    "        FROM restaurant_violations \n",
    "        WHERE violation_type = 'RED' \n",
    "        GROUP BY name \n",
    "        ORDER BY total_red_violations DESC \n",
    "        LIMIT 10\n",
    "    \"\"\")\n",
    "\n",
    "    # Mostra o resultado como DataFrame no notebook\n",
    "    top_red_violation_restaurants.show(truncate=False)  # ou display(...) no EMR Studio\n",
    "\n",
    "    # Também pode retornar o DataFrame se quiser salvar ou reutilizar\n",
    "    return top_red_violation_restaurants\n",
    "\n",
    "\n",
    "# Use o caminho do seu CSV no S3 ou HDFS\n",
    "data_source = 's3://emr-edb016-machicao/food_establishment_data.csv'\n",
    "\n",
    "# Executa a função e exibe o resultado\n",
    "result_df = calculate_red_violations(data_source)\n"
   ]
  },
  {
   "cell_type": "code",
   "execution_count": null,
   "id": "8ecddb3b",
   "metadata": {},
   "outputs": [],
   "source": []
  }
 ],
 "metadata": {
  "kernelspec": {
   "display_name": "PySpark",
   "language": "python",
   "name": "pysparkkernel"
  },
  "language_info": {
   "codemirror_mode": {
    "name": "python",
    "version": 3
   },
   "file_extension": ".py",
   "mimetype": "text/x-python",
   "name": "pyspark",
   "pygments_lexer": "python3"
  }
 },
 "nbformat": 4,
 "nbformat_minor": 5
}
